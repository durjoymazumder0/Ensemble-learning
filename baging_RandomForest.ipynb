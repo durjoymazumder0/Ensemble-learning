{
 "cells": [
  {
   "cell_type": "markdown",
   "id": "79e0cd13",
   "metadata": {},
   "source": [
    "Dataset source:https://www.kaggle.com/datasets/rabieelkharoua/cancer-prediction-dataset"
   ]
  },
  {
   "cell_type": "code",
   "execution_count": null,
   "id": "4d682240",
   "metadata": {},
   "outputs": [],
   "source": [
    "#import necessary libraries\n",
    "import pandas as pd\n",
    "from sklearn.model_selection import train_test_split\n",
    "from sklearn.tree import DecisionTreeClassifier\n",
    "from sklearn.ensemble import RandomForestClassifier\n",
    "from sklearn.metrics import classification_report"
   ]
  },
  {
   "cell_type": "code",
   "execution_count": 9,
   "id": "3b7de8b5",
   "metadata": {},
   "outputs": [
    {
     "data": {
      "text/html": [
       "<div>\n",
       "<style scoped>\n",
       "    .dataframe tbody tr th:only-of-type {\n",
       "        vertical-align: middle;\n",
       "    }\n",
       "\n",
       "    .dataframe tbody tr th {\n",
       "        vertical-align: top;\n",
       "    }\n",
       "\n",
       "    .dataframe thead th {\n",
       "        text-align: right;\n",
       "    }\n",
       "</style>\n",
       "<table border=\"1\" class=\"dataframe\">\n",
       "  <thead>\n",
       "    <tr style=\"text-align: right;\">\n",
       "      <th></th>\n",
       "      <th>age</th>\n",
       "      <th>gender</th>\n",
       "      <th>bmi</th>\n",
       "      <th>smoking</th>\n",
       "      <th>genetic_risk</th>\n",
       "      <th>physical_activity</th>\n",
       "      <th>alcohol_intake</th>\n",
       "      <th>cancer_history</th>\n",
       "      <th>diagnosis</th>\n",
       "    </tr>\n",
       "  </thead>\n",
       "  <tbody>\n",
       "    <tr>\n",
       "      <th>0</th>\n",
       "      <td>58</td>\n",
       "      <td>1</td>\n",
       "      <td>16.085313</td>\n",
       "      <td>0</td>\n",
       "      <td>1</td>\n",
       "      <td>8.146251</td>\n",
       "      <td>4.148219</td>\n",
       "      <td>1</td>\n",
       "      <td>1</td>\n",
       "    </tr>\n",
       "    <tr>\n",
       "      <th>1</th>\n",
       "      <td>71</td>\n",
       "      <td>0</td>\n",
       "      <td>30.828784</td>\n",
       "      <td>0</td>\n",
       "      <td>1</td>\n",
       "      <td>9.361630</td>\n",
       "      <td>3.519683</td>\n",
       "      <td>0</td>\n",
       "      <td>0</td>\n",
       "    </tr>\n",
       "    <tr>\n",
       "      <th>2</th>\n",
       "      <td>48</td>\n",
       "      <td>1</td>\n",
       "      <td>38.785084</td>\n",
       "      <td>0</td>\n",
       "      <td>2</td>\n",
       "      <td>5.135179</td>\n",
       "      <td>4.728368</td>\n",
       "      <td>0</td>\n",
       "      <td>1</td>\n",
       "    </tr>\n",
       "    <tr>\n",
       "      <th>3</th>\n",
       "      <td>34</td>\n",
       "      <td>0</td>\n",
       "      <td>30.040295</td>\n",
       "      <td>0</td>\n",
       "      <td>0</td>\n",
       "      <td>9.502792</td>\n",
       "      <td>2.044636</td>\n",
       "      <td>0</td>\n",
       "      <td>0</td>\n",
       "    </tr>\n",
       "    <tr>\n",
       "      <th>4</th>\n",
       "      <td>62</td>\n",
       "      <td>1</td>\n",
       "      <td>35.479721</td>\n",
       "      <td>0</td>\n",
       "      <td>0</td>\n",
       "      <td>5.356890</td>\n",
       "      <td>3.309849</td>\n",
       "      <td>0</td>\n",
       "      <td>1</td>\n",
       "    </tr>\n",
       "  </tbody>\n",
       "</table>\n",
       "</div>"
      ],
      "text/plain": [
       "   age  gender        bmi  smoking  genetic_risk  physical_activity  \\\n",
       "0   58       1  16.085313        0             1           8.146251   \n",
       "1   71       0  30.828784        0             1           9.361630   \n",
       "2   48       1  38.785084        0             2           5.135179   \n",
       "3   34       0  30.040295        0             0           9.502792   \n",
       "4   62       1  35.479721        0             0           5.356890   \n",
       "\n",
       "   alcohol_intake  cancer_history  diagnosis  \n",
       "0        4.148219               1          1  \n",
       "1        3.519683               0          0  \n",
       "2        4.728368               0          1  \n",
       "3        2.044636               0          0  \n",
       "4        3.309849               0          1  "
      ]
     },
     "execution_count": 9,
     "metadata": {},
     "output_type": "execute_result"
    }
   ],
   "source": [
    "df=pd.read_csv(\"cancer_data.csv\")\n",
    "df.head()"
   ]
  },
  {
   "cell_type": "code",
   "execution_count": 10,
   "id": "8623ca90",
   "metadata": {},
   "outputs": [
    {
     "name": "stdout",
     "output_type": "stream",
     "text": [
      "Missing values in the dataset:\n",
      "age                  0\n",
      "gender               0\n",
      "bmi                  0\n",
      "smoking              0\n",
      "genetic_risk         0\n",
      "physical_activity    0\n",
      "alcohol_intake       0\n",
      "cancer_history       0\n",
      "diagnosis            0\n",
      "dtype: int64\n"
     ]
    }
   ],
   "source": [
    "#Check for any missing values in the dataset\n",
    "print(\"Missing values in the dataset:\")\n",
    "print(df.isna().sum())"
   ]
  },
  {
   "cell_type": "code",
   "execution_count": 4,
   "id": "f6a84120",
   "metadata": {},
   "outputs": [],
   "source": [
    "#Select the features and target variable for modeling\n",
    "X = df[['age', 'gender', 'bmi', 'smoking', 'genetic_risk', 'physical_activity', 'alcohol_intake', 'cancer_history']]\n",
    "y = df[\"diagnosis\"]\n",
    "\n",
    "#Split the data into training and test sets with a test size of 25%\n",
    "X_train, X_test, y_train, y_test = train_test_split(X, y, test_size=0.25, random_state=5)\n",
    "\n"
   ]
  },
  {
   "cell_type": "code",
   "execution_count": 5,
   "id": "0d0dc856",
   "metadata": {},
   "outputs": [
    {
     "name": "stdout",
     "output_type": "stream",
     "text": [
      "Decision Tree Classification Report:\n",
      "              precision    recall  f1-score   support\n",
      "\n",
      "           0       0.87      0.91      0.89       231\n",
      "           1       0.85      0.78      0.81       144\n",
      "\n",
      "    accuracy                           0.86       375\n",
      "   macro avg       0.86      0.85      0.85       375\n",
      "weighted avg       0.86      0.86      0.86       375\n",
      "\n"
     ]
    }
   ],
   "source": [
    "#Initialize and train a Decision Tree Classifier model using the training data\n",
    "dt_model = DecisionTreeClassifier()\n",
    "dt_model.fit(X_train, y_train)\n",
    "\n",
    "#Make predictions on the test set using the trained model\n",
    "y_pred_dt = dt_model.predict(X_test)\n",
    "\n",
    "#Evaluate the model using a classification report and print the report\n",
    "report_dt = classification_report(y_test, y_pred_dt)\n",
    "print(\"Decision Tree Classification Report:\")\n",
    "print(report_dt)"
   ]
  },
  {
   "cell_type": "markdown",
   "id": "79f70e57",
   "metadata": {},
   "source": [
    "model trainning using random forest classifier"
   ]
  },
  {
   "cell_type": "code",
   "execution_count": 7,
   "id": "d9697b19",
   "metadata": {},
   "outputs": [
    {
     "name": "stdout",
     "output_type": "stream",
     "text": [
      "Random Forest Classification Report:\n",
      "              precision    recall  f1-score   support\n",
      "\n",
      "           0       0.90      0.96      0.93       231\n",
      "           1       0.92      0.83      0.88       144\n",
      "\n",
      "    accuracy                           0.91       375\n",
      "   macro avg       0.91      0.90      0.90       375\n",
      "weighted avg       0.91      0.91      0.91       375\n",
      "\n"
     ]
    }
   ],
   "source": [
    "#Initialize and train a Random Forest Classifier model with 25 estimators using the training data\n",
    "rf_model = RandomForestClassifier(n_estimators=25)\n",
    "rf_model.fit(X_train, y_train)\n",
    "\n",
    "# Make predictions on the test set using the trained model\n",
    "y_pred_rf = rf_model.predict(X_test)\n",
    "\n",
    "# Evaluate the model using a classification report and print the report\n",
    "report_rf = classification_report(y_test, y_pred_rf)\n",
    "print(\"Random Forest Classification Report:\")\n",
    "print(report_rf)"
   ]
  },
  {
   "cell_type": "markdown",
   "id": "1c2236a9",
   "metadata": {},
   "source": [
    "###Exploring Various Parameters in Random Forest Classifier\n",
    "\n",
    "1.let parameters:\n",
    "   - n_estimators = 50\n",
    "   - max_features = \"log2\"\n",
    "   - criterion = \"entropy\"\n",
    "   - bootstrap = False\n",
    "   - max_depth = 15\n",
    "   - min_samples_split = 5\n",
    "   - min_samples_leaf = 3\n",
    "\n",
    "my learning source:\n",
    "scikit-learn RandomForestClassifier Parameters"
   ]
  },
  {
   "cell_type": "code",
   "execution_count": 8,
   "id": "c41e0822",
   "metadata": {},
   "outputs": [
    {
     "name": "stdout",
     "output_type": "stream",
     "text": [
      "Random Forest Classification Report with Custom Parameters:\n",
      "              precision    recall  f1-score   support\n",
      "\n",
      "           0       0.92      0.97      0.95       231\n",
      "           1       0.95      0.87      0.91       144\n",
      "\n",
      "    accuracy                           0.93       375\n",
      "   macro avg       0.94      0.92      0.93       375\n",
      "weighted avg       0.93      0.93      0.93       375\n",
      "\n"
     ]
    }
   ],
   "source": [
    "#Train a Random Forest model with specified parameters\n",
    "rf_params = {\n",
    "    'criterion': 'entropy',\n",
    "    'max_depth': 15,\n",
    "    'min_samples_split': 5,\n",
    "    'min_samples_leaf': 3,\n",
    "    'max_features': 'log2',\n",
    "    'bootstrap': False,\n",
    "    'n_estimators': 50\n",
    "}\n",
    "rf_model_custom = RandomForestClassifier(**rf_params)\n",
    "rf_model_custom.fit(X_train, y_train)\n",
    "\n",
    "#Make predictions on the test set using the trained model\n",
    "y_pred_rf_custom = rf_model_custom.predict(X_test)\n",
    "\n",
    "#Evaluate the model using a classification report and print the report\n",
    "report_rf_custom = classification_report(y_test, y_pred_rf_custom)\n",
    "print(\"Random Forest Classification Report with Custom Parameters:\")\n",
    "print(report_rf_custom)"
   ]
  }
 ],
 "metadata": {
  "kernelspec": {
   "display_name": "Python 3",
   "language": "python",
   "name": "python3"
  },
  "language_info": {
   "codemirror_mode": {
    "name": "ipython",
    "version": 3
   },
   "file_extension": ".py",
   "mimetype": "text/x-python",
   "name": "python",
   "nbconvert_exporter": "python",
   "pygments_lexer": "ipython3",
   "version": "3.13.1"
  }
 },
 "nbformat": 4,
 "nbformat_minor": 5
}
