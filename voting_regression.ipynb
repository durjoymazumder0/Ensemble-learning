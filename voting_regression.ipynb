{
 "cells": [
  {
   "cell_type": "code",
   "execution_count": 2,
   "id": "f74daee3-c9b4-451a-aafb-46655a3950be",
   "metadata": {},
   "outputs": [
    {
     "data": {
      "text/html": [
       "<div>\n",
       "<style scoped>\n",
       "    .dataframe tbody tr th:only-of-type {\n",
       "        vertical-align: middle;\n",
       "    }\n",
       "\n",
       "    .dataframe tbody tr th {\n",
       "        vertical-align: top;\n",
       "    }\n",
       "\n",
       "    .dataframe thead th {\n",
       "        text-align: right;\n",
       "    }\n",
       "</style>\n",
       "<table border=\"1\" class=\"dataframe\">\n",
       "  <thead>\n",
       "    <tr style=\"text-align: right;\">\n",
       "      <th></th>\n",
       "      <th>area_sqr_ft</th>\n",
       "      <th>price_lakhs</th>\n",
       "      <th>bedrooms</th>\n",
       "    </tr>\n",
       "  </thead>\n",
       "  <tbody>\n",
       "    <tr>\n",
       "      <th>0</th>\n",
       "      <td>656.0</td>\n",
       "      <td>39.0</td>\n",
       "      <td>2</td>\n",
       "    </tr>\n",
       "    <tr>\n",
       "      <th>1</th>\n",
       "      <td>1260.0</td>\n",
       "      <td>83.2</td>\n",
       "      <td>2</td>\n",
       "    </tr>\n",
       "    <tr>\n",
       "      <th>2</th>\n",
       "      <td>1057.0</td>\n",
       "      <td>86.6</td>\n",
       "      <td>3</td>\n",
       "    </tr>\n",
       "    <tr>\n",
       "      <th>3</th>\n",
       "      <td>1259.0</td>\n",
       "      <td>59.0</td>\n",
       "      <td>2</td>\n",
       "    </tr>\n",
       "    <tr>\n",
       "      <th>4</th>\n",
       "      <td>1800.0</td>\n",
       "      <td>140.0</td>\n",
       "      <td>3</td>\n",
       "    </tr>\n",
       "    <tr>\n",
       "      <th>...</th>\n",
       "      <td>...</td>\n",
       "      <td>...</td>\n",
       "      <td>...</td>\n",
       "    </tr>\n",
       "    <tr>\n",
       "      <th>195</th>\n",
       "      <td>1412.0</td>\n",
       "      <td>71.0</td>\n",
       "      <td>2</td>\n",
       "    </tr>\n",
       "    <tr>\n",
       "      <th>196</th>\n",
       "      <td>1140.0</td>\n",
       "      <td>67.0</td>\n",
       "      <td>2</td>\n",
       "    </tr>\n",
       "    <tr>\n",
       "      <th>197</th>\n",
       "      <td>1501.0</td>\n",
       "      <td>80.0</td>\n",
       "      <td>2</td>\n",
       "    </tr>\n",
       "    <tr>\n",
       "      <th>198</th>\n",
       "      <td>1408.0</td>\n",
       "      <td>69.0</td>\n",
       "      <td>2</td>\n",
       "    </tr>\n",
       "    <tr>\n",
       "      <th>199</th>\n",
       "      <td>1198.0</td>\n",
       "      <td>56.0</td>\n",
       "      <td>2</td>\n",
       "    </tr>\n",
       "  </tbody>\n",
       "</table>\n",
       "<p>200 rows × 3 columns</p>\n",
       "</div>"
      ],
      "text/plain": [
       "     area_sqr_ft  price_lakhs  bedrooms\n",
       "0          656.0         39.0         2\n",
       "1         1260.0         83.2         2\n",
       "2         1057.0         86.6         3\n",
       "3         1259.0         59.0         2\n",
       "4         1800.0        140.0         3\n",
       "..           ...          ...       ...\n",
       "195       1412.0         71.0         2\n",
       "196       1140.0         67.0         2\n",
       "197       1501.0         80.0         2\n",
       "198       1408.0         69.0         2\n",
       "199       1198.0         56.0         2\n",
       "\n",
       "[200 rows x 3 columns]"
      ]
     },
     "execution_count": 2,
     "metadata": {},
     "output_type": "execute_result"
    }
   ],
   "source": [
    "import pandas as pd\n",
    "\n",
    "df = pd.read_csv(\"home_price.csv\")\n",
    "df"
   ]
  },
  {
   "cell_type": "code",
   "execution_count": 3,
   "id": "5732a4ea-fa84-40e5-8480-511b75900577",
   "metadata": {},
   "outputs": [],
   "source": [
    "from sklearn.model_selection import train_test_split\n",
    "\n",
    "X = df[[\"area_sqr_ft\",\"bedrooms\"]]\n",
    "y = df[\"price_lakhs\"]\n",
    "\n",
    "X_train, X_test, y_train, y_test = train_test_split(X, y, test_size=0.2, random_state=10)"
   ]
  },
  {
   "cell_type": "code",
   "execution_count": 4,
   "id": "6a224431-431e-475e-b216-13f9bd8c8228",
   "metadata": {},
   "outputs": [
    {
     "data": {
      "text/plain": [
       "0.8874887686858771"
      ]
     },
     "execution_count": 4,
     "metadata": {},
     "output_type": "execute_result"
    }
   ],
   "source": [
    "from sklearn.linear_model import LinearRegression\n",
    "\n",
    "model = LinearRegression()\n",
    "model.fit(X_train, y_train)\n",
    "model.score(X_test, y_test)"
   ]
  },
  {
   "cell_type": "code",
   "execution_count": 5,
   "id": "e3e70d59-3a1e-4bea-b27a-de82ce7ade8d",
   "metadata": {},
   "outputs": [
    {
     "data": {
      "text/plain": [
       "array([79.15940002, 70.96469522, 63.51496358])"
      ]
     },
     "execution_count": 5,
     "metadata": {},
     "output_type": "execute_result"
    }
   ],
   "source": [
    "model.predict(X_test[:3])"
   ]
  },
  {
   "cell_type": "code",
   "execution_count": 6,
   "id": "bebcc8b7-44f5-4079-b863-565ef387425b",
   "metadata": {},
   "outputs": [
    {
     "data": {
      "text/plain": [
       "[68.0, 80.1, 69.0]"
      ]
     },
     "execution_count": 6,
     "metadata": {},
     "output_type": "execute_result"
    }
   ],
   "source": [
    "y_test[:3].to_list()"
   ]
  },
  {
   "cell_type": "markdown",
   "id": "e52a12b7-2abd-4a24-9e66-d9810fd278fe",
   "metadata": {},
   "source": [
    "now use voting regressor"
   ]
  },
  {
   "cell_type": "code",
   "execution_count": 7,
   "id": "d1f234bd-bd39-4b03-b1bc-fdaeef8c4b75",
   "metadata": {},
   "outputs": [
    {
     "data": {
      "text/plain": [
       "0.870340859079508"
      ]
     },
     "execution_count": 7,
     "metadata": {},
     "output_type": "execute_result"
    }
   ],
   "source": [
    "from sklearn.ensemble import VotingRegressor\n",
    "\n",
    "from sklearn.linear_model import LinearRegression, Ridge\n",
    "from sklearn.tree import DecisionTreeRegressor\n",
    "\n",
    "# Create different regression models\n",
    "lin_reg = LinearRegression()\n",
    "ridge_reg = Ridge(alpha=1.0)\n",
    "dt_reg = DecisionTreeRegressor()\n",
    "\n",
    "\n",
    "vr = VotingRegressor(estimators=[\n",
    "    ('lr', lin_reg),\n",
    "    ('rr', ridge_reg),\n",
    "    ('dr', dt_reg)\n",
    "])\n",
    "\n",
    "vr.fit(X_train, y_train)\n",
    "vr.score(X_test, y_test)"
   ]
  },
  {
   "cell_type": "code",
   "execution_count": 8,
   "id": "046727ac-e7c9-44bb-aa37-0ccc9ca1a094",
   "metadata": {},
   "outputs": [
    {
     "data": {
      "text/plain": [
       "array([80.22148778, 70.08163805, 65.10601709])"
      ]
     },
     "execution_count": 8,
     "metadata": {},
     "output_type": "execute_result"
    }
   ],
   "source": [
    "vr.predict(X_test[:3])"
   ]
  },
  {
   "cell_type": "code",
   "execution_count": 9,
   "id": "45cfdfd3-6d1d-4738-a55e-a938ad01ced1",
   "metadata": {},
   "outputs": [
    {
     "data": {
      "text/plain": [
       "[68.0, 80.1, 69.0]"
      ]
     },
     "execution_count": 9,
     "metadata": {},
     "output_type": "execute_result"
    }
   ],
   "source": [
    "y_test[:3].to_list()"
   ]
  },
  {
   "cell_type": "code",
   "execution_count": null,
   "id": "691991eb-3d6e-44c2-9928-257d9d1588c7",
   "metadata": {},
   "outputs": [],
   "source": []
  }
 ],
 "metadata": {
  "kernelspec": {
   "display_name": "Python 3.13 (VSCode)",
   "language": "python",
   "name": "python313"
  },
  "language_info": {
   "codemirror_mode": {
    "name": "ipython",
    "version": 3
   },
   "file_extension": ".py",
   "mimetype": "text/x-python",
   "name": "python",
   "nbconvert_exporter": "python",
   "pygments_lexer": "ipython3",
   "version": "3.13.1"
  }
 },
 "nbformat": 4,
 "nbformat_minor": 5
}
